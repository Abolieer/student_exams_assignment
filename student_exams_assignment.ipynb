{
 "cells": [
  {
   "cell_type": "code",
   "execution_count": null,
   "id": "adjusted-deficit",
   "metadata": {},
   "outputs": [],
   "source": []
  },
  {
   "cell_type": "markdown",
   "id": "friendly-marina",
   "metadata": {},
   "source": [
    "## Introduction\n",
    "\n",
    "To know which factor may affect the student's performance, we classify the score into couple of ranks, and figure out which feature affects the score more significant. The independent variables are follow:\n",
    "\n",
    "1. gender : sex of students\n",
    "2. race/ethnicity : ethnicity of students\n",
    "3. parental level of education : parents' final education\n",
    "4. lunch : having lunch before test (normal or abnormal)\n",
    "5. test preparation course : complete or not complete before test"
   ]
  },
  {
   "cell_type": "code",
   "execution_count": 1,
   "id": "engaging-frank",
   "metadata": {
    "_kg_hide-input": false,
    "_uuid": "67f4eb0b221d82a042603cf5ced2d9121ec55a79"
   },
   "outputs": [],
   "source": [
    "import seaborn as sns\n",
    "import matplotlib.pyplot as plt \n",
    "import os \n",
    "import pandas as pd \n",
    "import numpy as np\n",
    "from sklearn.preprocessing import LabelEncoder\n",
    "from sklearn.cluster import KMeans"
   ]
  },
  {
   "cell_type": "markdown",
   "id": "tamil-mayor",
   "metadata": {},
   "source": [
    "Let's see how many datasets in this topic."
   ]
  },
  {
   "cell_type": "code",
   "execution_count": 2,
   "id": "loaded-excellence",
   "metadata": {},
   "outputs": [
    {
     "data": {
      "text/plain": [
       "['players_21.csv',\n",
       " 'csc324_midterm_exam_grade_processing.ipynb',\n",
       " 'reactors.ipynb',\n",
       " 'using_formatting_and_basic_formulas.mp4',\n",
       " 'Untitled.ipynb',\n",
       " 'matplotlib_examples.ipynb',\n",
       " 'file_encoding_inspecting_and_correcting_data.mp4',\n",
       " 'README.md',\n",
       " 'noaa_temp.csv',\n",
       " 'formulas_and_pivot_tables.mp4',\n",
       " 'exam_results.csv',\n",
       " 'student_exams.ipynb',\n",
       " 'reactors.csv',\n",
       " '.ipynb_checkpoints',\n",
       " '.git',\n",
       " 'reactors_test.ipynb',\n",
       " 'Data cleaning.ipynb']"
      ]
     },
     "execution_count": 2,
     "metadata": {},
     "output_type": "execute_result"
    }
   ],
   "source": [
    "os.listdir(\".\")"
   ]
  },
  {
   "cell_type": "markdown",
   "id": "welcome-ottawa",
   "metadata": {
    "_uuid": "c9e96facc35f044491749d60e7994cc9848e9621"
   },
   "source": [
    "Only one! Take a look at the dataset.\n"
   ]
  },
  {
   "cell_type": "code",
   "execution_count": 3,
   "id": "designing-robin",
   "metadata": {
    "_kg_hide-input": true,
    "_uuid": "da18ccc6cf02c0fbf13e219512f429f415bdeb0f"
   },
   "outputs": [
    {
     "data": {
      "text/html": [
       "<div>\n",
       "<style scoped>\n",
       "    .dataframe tbody tr th:only-of-type {\n",
       "        vertical-align: middle;\n",
       "    }\n",
       "\n",
       "    .dataframe tbody tr th {\n",
       "        vertical-align: top;\n",
       "    }\n",
       "\n",
       "    .dataframe thead th {\n",
       "        text-align: right;\n",
       "    }\n",
       "</style>\n",
       "<table border=\"1\" class=\"dataframe\">\n",
       "  <thead>\n",
       "    <tr style=\"text-align: right;\">\n",
       "      <th></th>\n",
       "      <th>gender</th>\n",
       "      <th>race/ethnicity</th>\n",
       "      <th>parental level of education</th>\n",
       "      <th>lunch</th>\n",
       "      <th>test preparation course</th>\n",
       "      <th>math score</th>\n",
       "      <th>reading score</th>\n",
       "      <th>writing score</th>\n",
       "    </tr>\n",
       "  </thead>\n",
       "  <tbody>\n",
       "    <tr>\n",
       "      <th>0</th>\n",
       "      <td>female</td>\n",
       "      <td>group B</td>\n",
       "      <td>bachelor's degree</td>\n",
       "      <td>standard</td>\n",
       "      <td>none</td>\n",
       "      <td>72</td>\n",
       "      <td>72</td>\n",
       "      <td>74</td>\n",
       "    </tr>\n",
       "    <tr>\n",
       "      <th>1</th>\n",
       "      <td>female</td>\n",
       "      <td>group C</td>\n",
       "      <td>some college</td>\n",
       "      <td>standard</td>\n",
       "      <td>completed</td>\n",
       "      <td>69</td>\n",
       "      <td>90</td>\n",
       "      <td>88</td>\n",
       "    </tr>\n",
       "    <tr>\n",
       "      <th>2</th>\n",
       "      <td>female</td>\n",
       "      <td>group B</td>\n",
       "      <td>master's degree</td>\n",
       "      <td>standard</td>\n",
       "      <td>none</td>\n",
       "      <td>90</td>\n",
       "      <td>95</td>\n",
       "      <td>93</td>\n",
       "    </tr>\n",
       "    <tr>\n",
       "      <th>3</th>\n",
       "      <td>male</td>\n",
       "      <td>group A</td>\n",
       "      <td>associate's degree</td>\n",
       "      <td>free/reduced</td>\n",
       "      <td>none</td>\n",
       "      <td>47</td>\n",
       "      <td>57</td>\n",
       "      <td>44</td>\n",
       "    </tr>\n",
       "    <tr>\n",
       "      <th>4</th>\n",
       "      <td>male</td>\n",
       "      <td>group C</td>\n",
       "      <td>some college</td>\n",
       "      <td>standard</td>\n",
       "      <td>none</td>\n",
       "      <td>76</td>\n",
       "      <td>78</td>\n",
       "      <td>75</td>\n",
       "    </tr>\n",
       "  </tbody>\n",
       "</table>\n",
       "</div>"
      ],
      "text/plain": [
       "   gender race/ethnicity parental level of education         lunch  \\\n",
       "0  female        group B           bachelor's degree      standard   \n",
       "1  female        group C                some college      standard   \n",
       "2  female        group B             master's degree      standard   \n",
       "3    male        group A          associate's degree  free/reduced   \n",
       "4    male        group C                some college      standard   \n",
       "\n",
       "  test preparation course  math score  reading score  writing score  \n",
       "0                    none          72             72             74  \n",
       "1               completed          69             90             88  \n",
       "2                    none          90             95             93  \n",
       "3                    none          47             57             44  \n",
       "4                    none          76             78             75  "
      ]
     },
     "execution_count": 3,
     "metadata": {},
     "output_type": "execute_result"
    }
   ],
   "source": [
    "filename = \"exam_results.csv\"\n",
    "score_df = pd.read_csv(filename)\n",
    "score_df.head()"
   ]
  },
  {
   "cell_type": "markdown",
   "id": "outer-charger",
   "metadata": {
    "_uuid": "2f30aea7ac348b3a038ef7a309a2dede61ad677f"
   },
   "source": [
    "Some column names are too long, rename the column names to be simpler. "
   ]
  },
  {
   "cell_type": "code",
   "execution_count": 4,
   "id": "adjacent-physics",
   "metadata": {
    "_kg_hide-input": true,
    "_uuid": "6c6104c26d8abb0104aac9b38ca1011e1d9cb544"
   },
   "outputs": [
    {
     "data": {
      "text/html": [
       "<div>\n",
       "<style scoped>\n",
       "    .dataframe tbody tr th:only-of-type {\n",
       "        vertical-align: middle;\n",
       "    }\n",
       "\n",
       "    .dataframe tbody tr th {\n",
       "        vertical-align: top;\n",
       "    }\n",
       "\n",
       "    .dataframe thead th {\n",
       "        text-align: right;\n",
       "    }\n",
       "</style>\n",
       "<table border=\"1\" class=\"dataframe\">\n",
       "  <thead>\n",
       "    <tr style=\"text-align: right;\">\n",
       "      <th></th>\n",
       "      <th>gender</th>\n",
       "      <th>ethnicity</th>\n",
       "      <th>parent_education</th>\n",
       "      <th>lunch</th>\n",
       "      <th>pre</th>\n",
       "      <th>math</th>\n",
       "      <th>reading</th>\n",
       "      <th>writing</th>\n",
       "    </tr>\n",
       "  </thead>\n",
       "  <tbody>\n",
       "    <tr>\n",
       "      <th>0</th>\n",
       "      <td>female</td>\n",
       "      <td>group B</td>\n",
       "      <td>bachelor's degree</td>\n",
       "      <td>standard</td>\n",
       "      <td>none</td>\n",
       "      <td>72</td>\n",
       "      <td>72</td>\n",
       "      <td>74</td>\n",
       "    </tr>\n",
       "    <tr>\n",
       "      <th>1</th>\n",
       "      <td>female</td>\n",
       "      <td>group C</td>\n",
       "      <td>some college</td>\n",
       "      <td>standard</td>\n",
       "      <td>completed</td>\n",
       "      <td>69</td>\n",
       "      <td>90</td>\n",
       "      <td>88</td>\n",
       "    </tr>\n",
       "    <tr>\n",
       "      <th>2</th>\n",
       "      <td>female</td>\n",
       "      <td>group B</td>\n",
       "      <td>master's degree</td>\n",
       "      <td>standard</td>\n",
       "      <td>none</td>\n",
       "      <td>90</td>\n",
       "      <td>95</td>\n",
       "      <td>93</td>\n",
       "    </tr>\n",
       "    <tr>\n",
       "      <th>3</th>\n",
       "      <td>male</td>\n",
       "      <td>group A</td>\n",
       "      <td>associate's degree</td>\n",
       "      <td>free/reduced</td>\n",
       "      <td>none</td>\n",
       "      <td>47</td>\n",
       "      <td>57</td>\n",
       "      <td>44</td>\n",
       "    </tr>\n",
       "    <tr>\n",
       "      <th>4</th>\n",
       "      <td>male</td>\n",
       "      <td>group C</td>\n",
       "      <td>some college</td>\n",
       "      <td>standard</td>\n",
       "      <td>none</td>\n",
       "      <td>76</td>\n",
       "      <td>78</td>\n",
       "      <td>75</td>\n",
       "    </tr>\n",
       "  </tbody>\n",
       "</table>\n",
       "</div>"
      ],
      "text/plain": [
       "   gender ethnicity    parent_education         lunch        pre  math  \\\n",
       "0  female   group B   bachelor's degree      standard       none    72   \n",
       "1  female   group C        some college      standard  completed    69   \n",
       "2  female   group B     master's degree      standard       none    90   \n",
       "3    male   group A  associate's degree  free/reduced       none    47   \n",
       "4    male   group C        some college      standard       none    76   \n",
       "\n",
       "   reading  writing  \n",
       "0       72       74  \n",
       "1       90       88  \n",
       "2       95       93  \n",
       "3       57       44  \n",
       "4       78       75  "
      ]
     },
     "execution_count": 4,
     "metadata": {},
     "output_type": "execute_result"
    }
   ],
   "source": [
    "score_df.rename(columns={\"race/ethnicity\":\"ethnicity\",\"parental level of education\":\"parent_education\"\n",
    "                    ,\"math score\":\"math\",\"reading score\":\"reading\",\"writing score\":\"writing\",\n",
    "                    \"test preparation course\":\"pre\"},inplace=True)\n",
    "score_df.head()"
   ]
  },
  {
   "cell_type": "markdown",
   "id": "given-enzyme",
   "metadata": {},
   "source": [
    "Seems clearly. Check the data type."
   ]
  },
  {
   "cell_type": "code",
   "execution_count": 5,
   "id": "continuous-diagnosis",
   "metadata": {},
   "outputs": [
    {
     "data": {
      "text/plain": [
       "gender              object\n",
       "ethnicity           object\n",
       "parent_education    object\n",
       "lunch               object\n",
       "pre                 object\n",
       "math                 int64\n",
       "reading              int64\n",
       "writing              int64\n",
       "dtype: object"
      ]
     },
     "execution_count": 5,
     "metadata": {},
     "output_type": "execute_result"
    }
   ],
   "source": [
    "score_df.dtypes"
   ]
  },
  {
   "cell_type": "markdown",
   "id": "direct-image",
   "metadata": {},
   "source": [
    "Plot the average scores per gender. Use a Matplotlib Barplot"
   ]
  },
  {
   "cell_type": "markdown",
   "id": "collect-dispute",
   "metadata": {},
   "source": [
    "Plot the average scores per category of \"lunch\" and \"pre\". Use a seaborn boxplot chart."
   ]
  },
  {
   "cell_type": "code",
   "execution_count": 7,
   "id": "significant-viewer",
   "metadata": {
    "_kg_hide-input": false,
    "_uuid": "df896eede2a2e2373c50b4a4d3f2ad3bc127fc14"
   },
   "outputs": [
    {
     "data": {
      "image/png": "[encoded data removed]",
      "text/plain": [
       "<Figure size 432x288 with 3 Axes>"
      ]
     },
     "metadata": {
      "needs_background": "light"
     },
     "output_type": "display_data"
    }
   ],
   "source": [
    "fig, ax = plt.subplots()\n",
    "fig.subplots_adjust(hspace=0.8, wspace=0.8, left = 0.2, right = 1.5)\n",
    "for idx in range(3):\n",
    "    plt.subplot(1,3, idx+1)\n",
    "    gender_df = score_df.groupby(\"gender\")[list(score_df.columns[-3:])[idx]].mean()\n",
    "    sns.barplot(x=gender_df.index, y=gender_df.values)\n",
    "    plt.ylabel(\"score\")\n",
    "    plt.title(list(score_df.columns[-3:])[idx])\n",
    "    \n",
    "plt.show()"
   ]
  },
  {
   "cell_type": "code",
   "execution_count": 8,
   "id": "bronze-elizabeth",
   "metadata": {},
   "outputs": [
    {
     "data": {
      "image/png": "[encoded data removed]",
      "text/plain": [
       "<Figure size 432x288 with 3 Axes>"
      ]
     },
     "metadata": {
      "needs_background": "light"
     },
     "output_type": "display_data"
    }
   ],
   "source": [
    "fig, ax = plt.subplots()\n",
    "fig.subplots_adjust(hspace=0.8, wspace=0.8, left = 0.2, right = 1.5)\n",
    "for idx in range(3):\n",
    "    plt.subplot(1,3, idx+1)\n",
    "    ethn_df = score_df.groupby(\"ethnicity\")[list(score_df.columns[-3:])[idx]].mean()\n",
    "    sns.barplot(x=ethn_df.index, y = ethn_df.values, palette = \"Greens\")\n",
    "    plt.xlabel(\"Group\")\n",
    "    plt.ylabel(\"mean score\")\n",
    "    plt.xticks(rotation=90)\n",
    "    plt.title(list(score_df.columns[-3:])[idx])\n",
    "plt.show()"
   ]
  },
  {
   "cell_type": "code",
   "execution_count": 10,
   "id": "brief-combining",
   "metadata": {
    "_kg_hide-input": false,
    "_uuid": "01e1a7e19df62dddd5335fa1f786d832d554d483"
   },
   "outputs": [
    {
     "data": {
      "image/png": "[encoded data removed]",
      "text/plain": [
       "<Figure size 432x288 with 1 Axes>"
      ]
     },
     "metadata": {
      "needs_background": "light"
     },
     "output_type": "display_data"
    },
    {
     "data": {
      "image/png": "[encoded data removed]",
      "text/plain": [
       "<Figure size 432x288 with 1 Axes>"
      ]
     },
     "metadata": {
      "needs_background": "light"
     },
     "output_type": "display_data"
    },
    {
     "data": {
      "image/png": "[encoded data removed]",
      "text/plain": [
       "<Figure size 432x288 with 1 Axes>"
      ]
     },
     "metadata": {
      "needs_background": "light"
     },
     "output_type": "display_data"
    }
   ],
   "source": [
    "for item in score_df.columns[-3:]:\n",
    "    sns.boxplot(x=score_df[\"pre\"], y=score_df[item])\n",
    "    plt.title(item+\" vs pre test\", loc=\"left\")\n",
    "    plt.show()"
   ]
  },
  {
   "cell_type": "code",
   "execution_count": 11,
   "id": "massive-scale",
   "metadata": {},
   "outputs": [
    {
     "data": {
      "image/png": "[encoded data removed]",
      "text/plain": [
       "<Figure size 432x288 with 1 Axes>"
      ]
     },
     "metadata": {
      "needs_background": "light"
     },
     "output_type": "display_data"
    },
    {
     "data": {
      "image/png": "[encoded data removed]",
      "text/plain": [
       "<Figure size 432x288 with 1 Axes>"
      ]
     },
     "metadata": {
      "needs_background": "light"
     },
     "output_type": "display_data"
    },
    {
     "data": {
      "image/png": "[encoded data removed]",
      "text/plain": [
       "<Figure size 432x288 with 1 Axes>"
      ]
     },
     "metadata": {
      "needs_background": "light"
     },
     "output_type": "display_data"
    }
   ],
   "source": [
    "for item in score_df.columns[-3:]:\n",
    "    sns.boxplot(x=score_df[\"lunch\"], y=score_df[item])\n",
    "    plt.title(item+\" vs lunch\", loc=\"left\")\n",
    "    plt.show()"
   ]
  }
 ],
 "metadata": {
  "kernelspec": {
   "display_name": "Python 3",
   "language": "python",
   "name": "python3"
  },
  "language_info": {
   "codemirror_mode": {
    "name": "ipython",
    "version": 3
   },
   "file_extension": ".py",
   "mimetype": "text/x-python",
   "name": "python",
   "nbconvert_exporter": "python",
   "pygments_lexer": "ipython3",
   "version": "3.8.3"
  }
 },
 "nbformat": 4,
 "nbformat_minor": 5
}
